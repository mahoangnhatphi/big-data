{
  "nbformat": 4,
  "nbformat_minor": 0,
  "metadata": {
    "colab": {
      "provenance": [],
      "include_colab_link": true
    },
    "kernelspec": {
      "name": "python3",
      "display_name": "Python 3"
    },
    "language_info": {
      "name": "python"
    }
  },
  "cells": [
    {
      "cell_type": "markdown",
      "metadata": {
        "id": "view-in-github",
        "colab_type": "text"
      },
      "source": [
        "<a href=\"https://colab.research.google.com/github/mahoangnhatphi/big-data/blob/main/Lab4.ipynb\" target=\"_parent\"><img src=\"https://colab.research.google.com/assets/colab-badge.svg\" alt=\"Open In Colab\"/></a>"
      ]
    },
    {
      "cell_type": "markdown",
      "metadata": {
        "id": "roAyNwmf67Cl"
      },
      "source": [
        "## Exercise 1\n",
        "Write a function to compute the below formualation with the use of map function\n",
        "\\begin{equation}\n",
        "x^2 + y^2 - r^2\n",
        "\\end{equation}\n",
        "\n",
        "then, print out the values of the equation at these below values of $x$, $y$ and $z$\n",
        "```\n",
        "x = [1,2,3,4,5,6]\n",
        "y = [2,3,4,5,6,7]\n",
        "r = [1,1,3,3,4,5]\n",
        "\n",
        "```"
      ]
    },
    {
      "cell_type": "code",
      "source": [
        "def compute_equation(x, y, r):\n",
        "    return x**2 + y**2 - r**2\n",
        "\n",
        "\n",
        "x_values = [1, 2, 3, 4, 5, 6]\n",
        "y_values = [2, 3, 4, 5, 6, 7]\n",
        "r_values = [1, 1, 3, 3, 4, 5]\n",
        "\n",
        "result = list(map(compute_equation, x_values, y_values, r_values))\n",
        "print(result)"
      ],
      "metadata": {
        "id": "de7cbys84ieY",
        "colab": {
          "base_uri": "https://localhost:8080/"
        },
        "outputId": "978c9619-c9d8-49a3-eb35-5c90fc4d175c"
      },
      "execution_count": 1,
      "outputs": [
        {
          "output_type": "stream",
          "name": "stdout",
          "text": [
            "[4, 12, 16, 32, 45, 60]\n"
          ]
        }
      ]
    },
    {
      "cell_type": "markdown",
      "metadata": {
        "id": "jbbvCewW-Zib"
      },
      "source": [
        "## Exercise 2\n",
        "\n",
        "Write a function that take input as a list of words and return to a list of integers representing the lengths of the correponding words.\n",
        "\n",
        "Write it in three different ways:\n",
        "1. using a for-loop,\n",
        "2. using function `map()`, and\n",
        "3. using list comprehensions."
      ]
    },
    {
      "cell_type": "code",
      "source": [
        "# 1. using a for-loop,\n",
        "def word_lengths_for_loop(words):\n",
        "    lengths = []\n",
        "    for word in words:\n",
        "        lengths.append(len(word))\n",
        "    return lengths\n",
        "\n",
        "# 2. using function map()\n",
        "def word_lengths_map(words):\n",
        "    return list(map(len, words))\n",
        "\n",
        "# 3. using list comprehensions.\n",
        "def word_lengths_list_comprehension(words):\n",
        "    return [len(word) for word in words]\n",
        "\n",
        "words = ['apple', 'banana', 'orange', 'grape']\n",
        "print(word_lengths_for_loop(words))\n",
        "print(word_lengths_map(words))\n",
        "print(word_lengths_list_comprehension(words))"
      ],
      "metadata": {
        "colab": {
          "base_uri": "https://localhost:8080/"
        },
        "id": "zhjNHHdU48up",
        "outputId": "6bf63341-8f45-413d-fee6-5a6c1e06f9c8"
      },
      "execution_count": 2,
      "outputs": [
        {
          "output_type": "stream",
          "name": "stdout",
          "text": [
            "[5, 6, 6, 5]\n",
            "[5, 6, 6, 5]\n",
            "[5, 6, 6, 5]\n"
          ]
        }
      ]
    },
    {
      "cell_type": "markdown",
      "metadata": {
        "id": "wJwBpx3CB6Mz"
      },
      "source": [
        "## Exercise 3\n",
        "\n",
        "Implement a program to make a list whose elements are double string of a string `re` (i.e., `rere`), where `re` is the first two characters of approriate elements in this list:\n",
        "\n",
        "`['real', 'rock', 'realize', 'rocket', 'red', 'eraser' , '7', 8 , 9, 10]`."
      ]
    },
    {
      "cell_type": "code",
      "source": [
        "def double_strings(lst):\n",
        "\n",
        "    def repeat_first_two_chars(item):\n",
        "        if isinstance(item, str) and len(item) >= 2:\n",
        "            return item[:2] * 2\n",
        "        else:\n",
        "            return None\n",
        "\n",
        "    filtered_list = list(map(repeat_first_two_chars, lst))\n",
        "    return [item for item in filtered_list if item is not None]\n",
        "\n",
        "original_list = ['real', 'rock', 'realize', 'rocket', 'red', 'eraser', '7', 8, 9, 10]\n",
        "result_list = double_strings(original_list)\n",
        "print(result_list)"
      ],
      "metadata": {
        "id": "TvyLK6aekEq6",
        "colab": {
          "base_uri": "https://localhost:8080/"
        },
        "outputId": "7b88115e-6ec0-42ba-9ffa-24208681c596"
      },
      "execution_count": 3,
      "outputs": [
        {
          "output_type": "stream",
          "name": "stdout",
          "text": [
            "['rere', 'roro', 'rere', 'roro', 'rere', 'erer']\n"
          ]
        }
      ]
    },
    {
      "cell_type": "markdown",
      "metadata": {
        "id": "FmUuMocREUy4"
      },
      "source": [
        "## Exercise 4\n",
        "\n",
        "Write a function `max_in_list()` that takes a list of numbers and returns the largest one using `reduce()` in lib `functools`"
      ]
    },
    {
      "cell_type": "code",
      "source": [
        "import functools as ft\n",
        "\n",
        "arr=[1,2,3,4,5,6,7,8,9,10]\n",
        "def max_in_list(arr):\n",
        "\n",
        "  return ft.reduce(lambda a, b: a if a > b else b, arr)\n",
        "print('The largest number is: ', max_in_list(arr))"
      ],
      "metadata": {
        "colab": {
          "base_uri": "https://localhost:8080/"
        },
        "id": "IJLvv_Mv5VMw",
        "outputId": "35679ac0-56ad-40b7-b732-792dd7512dea"
      },
      "execution_count": 6,
      "outputs": [
        {
          "output_type": "stream",
          "name": "stdout",
          "text": [
            "The largest number is:  10\n"
          ]
        }
      ]
    },
    {
      "cell_type": "markdown",
      "source": [
        "## Exercise 5\n",
        "\n",
        "Using Python `map` to write a Python program to triple all numbers of a given list of integers."
      ],
      "metadata": {
        "id": "HH2WAgksg9wM"
      }
    },
    {
      "cell_type": "code",
      "source": [
        "a = [1,2,3,4,5]\n",
        "\n",
        "def map_func(arr):\n",
        "  return arr * 3\n",
        "\n",
        "print(\"Original list:\", a)\n",
        "print(\"List with tripled numbers:\", list(map(map_func, a)))\n"
      ],
      "metadata": {
        "colab": {
          "base_uri": "https://localhost:8080/"
        },
        "id": "OMuOV74y5jkR",
        "outputId": "dbdc0223-5fab-4d83-b9ad-785bb4a35ff7"
      },
      "execution_count": 12,
      "outputs": [
        {
          "output_type": "stream",
          "name": "stdout",
          "text": [
            "Original list: [1, 2, 3, 4, 5]\n",
            "List with tripled numbers: [3, 6, 9, 12, 15]\n"
          ]
        }
      ]
    },
    {
      "cell_type": "markdown",
      "source": [
        "## Exercise 6\n",
        "Implement parallel processing using `map()` to apply a function across multiple elements of an iterable concurrently, and then use `reduce()` to aggregate the results."
      ],
      "metadata": {
        "id": "xv0H5iw_5_mm"
      }
    },
    {
      "cell_type": "code",
      "source": [
        "import concurrent.futures\n",
        "from functools import reduce\n",
        "\n",
        "# Example function to square a number\n",
        "def square(x):\n",
        "    return x * x\n",
        "\n",
        "# Example data\n",
        "data = [1, 2, 3, 4, 5]\n",
        "\n",
        "# Number of concurrent workers\n",
        "num_workers = 2\n",
        "\n",
        "# Function to be applied concurrently using map\n",
        "def process_data_parallel(data_chunk):\n",
        "    with concurrent.futures.ThreadPoolExecutor(max_workers=num_workers) as executor:\n",
        "        return list(executor.map(square, data_chunk))\n",
        "\n",
        "# Apply the function concurrently using map\n",
        "results = list(map(process_data_parallel, [data]))\n",
        "\n",
        "# Flatten the results\n",
        "flattened_results = reduce(lambda x, y: x + y, results)\n",
        "\n",
        "print(\"Original data:\", data)\n",
        "print(\"Squared data (processed concurrently and aggregated):\", flattened_results)"
      ],
      "metadata": {
        "id": "4FUQmmUylEbl",
        "colab": {
          "base_uri": "https://localhost:8080/"
        },
        "outputId": "0bb00c6e-9ec5-4737-e1c7-234cf2cd1dc4"
      },
      "execution_count": 13,
      "outputs": [
        {
          "output_type": "stream",
          "name": "stdout",
          "text": [
            "Original data: [1, 2, 3, 4, 5]\n",
            "Squared data (processed concurrently and aggregated): [1, 4, 9, 16, 25]\n"
          ]
        }
      ]
    },
    {
      "cell_type": "markdown",
      "source": [
        "## Exercise 7\n",
        "Implement a MapReduce-style function to process data distributed across multiple nodes or workers."
      ],
      "metadata": {
        "id": "IF_ouBU-6IYz"
      }
    },
    {
      "cell_type": "code",
      "source": [
        "from concurrent.futures import ThreadPoolExecutor\n",
        "from collections import defaultdict\n",
        "\n",
        "def mapper(data):\n",
        "    \"\"\"Map function.\"\"\"\n",
        "    # Apply some transformation to the input data\n",
        "    # For example, split a string into words\n",
        "    return [(word, 1) for word in data.split()]\n",
        "\n",
        "def reducer(pair):\n",
        "    \"\"\"Reduce function.\"\"\"\n",
        "    # Sum up the counts for each word\n",
        "    word, counts = pair\n",
        "    return (word, sum(counts))\n",
        "\n",
        "def map_reduce(data, mapper_func, reducer_func, num_workers=4):\n",
        "    \"\"\"MapReduce function.\"\"\"\n",
        "    # Map phase\n",
        "    mapped_data = []\n",
        "    with ThreadPoolExecutor(max_workers=num_workers) as executor:\n",
        "        mapped_data = list(executor.map(mapper_func, data))\n",
        "\n",
        "    # Flatten the mapped data\n",
        "    flattened_mapped_data = [item for sublist in mapped_data for item in sublist]\n",
        "\n",
        "    # Reduce phase\n",
        "    reduced_data = defaultdict(list)\n",
        "    for key, value in flattened_mapped_data:\n",
        "        reduced_data[key].append(value)\n",
        "\n",
        "    # Apply the reducer function to each key-value pair\n",
        "    result = list(map(reducer_func, reduced_data.items()))\n",
        "\n",
        "    return result\n",
        "\n",
        "# Example usage:\n",
        "if __name__ == '__main__':\n",
        "    data = [\"hello world\", \"world is beautiful\", \"hello beautiful world\"]\n",
        "    result = map_reduce(data, mapper, reducer)\n",
        "    print(result)"
      ],
      "metadata": {
        "id": "C9oaW2et6XV5",
        "colab": {
          "base_uri": "https://localhost:8080/"
        },
        "outputId": "ad5c9575-e16c-47fe-a0a7-02f22940a2f8"
      },
      "execution_count": 14,
      "outputs": [
        {
          "output_type": "stream",
          "name": "stdout",
          "text": [
            "[('hello', 2), ('world', 3), ('is', 1), ('beautiful', 2)]\n"
          ]
        }
      ]
    }
  ]
}