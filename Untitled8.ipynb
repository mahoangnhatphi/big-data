{
  "nbformat": 4,
  "nbformat_minor": 0,
  "metadata": {
    "colab": {
      "private_outputs": true,
      "provenance": [],
      "authorship_tag": "ABX9TyNhSEJGVsOPkgzyxToOI+Q0",
      "include_colab_link": true
    },
    "kernelspec": {
      "name": "python3",
      "display_name": "Python 3"
    },
    "language_info": {
      "name": "python"
    }
  },
  "cells": [
    {
      "cell_type": "markdown",
      "metadata": {
        "id": "view-in-github",
        "colab_type": "text"
      },
      "source": [
        "<a href=\"https://colab.research.google.com/github/mahoangnhatphi/big-data/blob/main/Untitled8.ipynb\" target=\"_parent\"><img src=\"https://colab.research.google.com/assets/colab-badge.svg\" alt=\"Open In Colab\"/></a>"
      ]
    },
    {
      "cell_type": "code",
      "execution_count": null,
      "metadata": {
        "id": "nQW0uxbm9Ydl"
      },
      "outputs": [],
      "source": [
        "!apt-get update\n",
        "!apt-get install openjdk-8-jdk-headless -qq > /dev/null\n",
        "!wget -q http://archive.apache.org/dist/spark/spark-3.1.1/spark-3.1.1-bin-hadoop3.2.tgz\n",
        "!tar xf spark-3.1.1-bin-hadoop3.2.tgz\n",
        "!pip install -q findspark\n",
        "import os\n",
        "os.environ[\"JAVA_HOME\"] = \"/usr/lib/jvm/java-8-openjdk-amd64\"\n",
        "os.environ[\"SPARK_HOME\"] = \"/content/spark-3.1.1-bin-hadoop3.2\"\n",
        "import findspark\n",
        "findspark.init()"
      ]
    },
    {
      "cell_type": "code",
      "source": [
        "!pip install -q kaggle\n",
        "from google.colab import files\n",
        "files.upload()"
      ],
      "metadata": {
        "id": "nE66eZ3w9d7i"
      },
      "execution_count": null,
      "outputs": []
    },
    {
      "cell_type": "code",
      "source": [
        "!mkdir -p ~/.kaggle\n",
        "!cp kaggle.json ~/.kaggle/\n",
        "\n",
        "!chmod 600 ~/.kaggle/kaggle.json\n",
        "\n",
        "!kaggle datasets download -d kyanyoga/sample-sales-data\n",
        "\n",
        "!unzip -p \"sample-sales-data.zip\""
      ],
      "metadata": {
        "id": "gwkeBPAh-wNq"
      },
      "execution_count": null,
      "outputs": []
    },
    {
      "cell_type": "code",
      "source": [
        "from pyspark import SparkConf, SparkContext\n",
        "from pyspark.sql import SparkSession"
      ],
      "metadata": {
        "id": "c9nvCjnl9cYk"
      },
      "execution_count": null,
      "outputs": []
    },
    {
      "cell_type": "code",
      "source": [
        "sc = SparkContext(conf=SparkConf())\n",
        "spark = SparkSession(sparkContext=sc)"
      ],
      "metadata": {
        "id": "e2plNxjK_2_C"
      },
      "execution_count": null,
      "outputs": []
    },
    {
      "cell_type": "code",
      "source": [
        "import pandas as pd\n",
        "print('Pandas version: {}'. format(pd.__version__))"
      ],
      "metadata": {
        "id": "k9eLCVyNAGc5"
      },
      "execution_count": null,
      "outputs": []
    },
    {
      "cell_type": "code",
      "source": [
        "data_raw = spark.read.csv('/content/sales_data_sample.csv', inferSchema=True, header=True)\n",
        "\n",
        "# preview the data\n",
        "# data type\n",
        "print('-'*10, 'data types', '-'*10)\n",
        "pd.DataFrame(data_raw.dtypes)"
      ],
      "metadata": {
        "id": "vhCf_2vh_4Rh"
      },
      "execution_count": null,
      "outputs": []
    },
    {
      "cell_type": "code",
      "source": [
        "df = data_raw.toPandas()"
      ],
      "metadata": {
        "id": "MMIIv9YZBjgy"
      },
      "execution_count": null,
      "outputs": []
    },
    {
      "cell_type": "code",
      "source": [
        "# data summary\n",
        "print('-'*10, 'data summary', '-'*10)\n",
        "data_raw.describe().toPandas()"
      ],
      "metadata": {
        "id": "Dx5Y0EltANsx"
      },
      "execution_count": null,
      "outputs": []
    },
    {
      "cell_type": "code",
      "source": [
        "# view a small subset of the data\n",
        "print('-'*10, 'randomely sample 1% data to view', '-'*10)\n",
        "data_raw.randomSplit([0.01, 0.99])[0].toPandas()"
      ],
      "metadata": {
        "id": "YX7DXNv8ARco"
      },
      "execution_count": null,
      "outputs": []
    },
    {
      "cell_type": "code",
      "source": [
        "df.shape"
      ],
      "metadata": {
        "id": "iOH3asOxAUra"
      },
      "execution_count": null,
      "outputs": []
    },
    {
      "cell_type": "code",
      "source": [
        "df.head()"
      ],
      "metadata": {
        "id": "uSrd_wbDBNMy"
      },
      "execution_count": null,
      "outputs": []
    },
    {
      "cell_type": "markdown",
      "source": [
        "Checking for null values"
      ],
      "metadata": {
        "id": "zTsEWbIqBRLR"
      }
    },
    {
      "cell_type": "code",
      "source": [
        "total_null = df.isnull().sum().sort_values(ascending = False)\n",
        "percent_null = (df.isnull().sum()/df.isnull().count()).sort_values(ascending = False)\n",
        "missing_data = pd.concat([total_null,percent_null],axis = 1,keys=['total_null','persent_null'])\n",
        "missing_data"
      ],
      "metadata": {
        "id": "A2xkBwaOBSVh"
      },
      "execution_count": null,
      "outputs": []
    },
    {
      "source": [
        "# @title total_null\n",
        "\n",
        "from matplotlib import pyplot as plt\n",
        "missing_data['total_null'].plot(kind='hist', bins=20, title='total_null')\n",
        "plt.gca().spines[['top', 'right',]].set_visible(False)"
      ],
      "cell_type": "code",
      "execution_count": null,
      "outputs": [],
      "metadata": {
        "cellView": "form",
        "id": "5DJErwQKBvcw"
      }
    },
    {
      "cell_type": "markdown",
      "source": [
        "Dropping columns"
      ],
      "metadata": {
        "id": "fPfQekhbBx0Y"
      }
    },
    {
      "cell_type": "code",
      "source": [
        "#Removing the variables which dont add significant value to the analysis or majority null value.\n",
        "to_drop = ['PHONE','ADDRESSLINE1','ADDRESSLINE2','STATE','POSTALCODE','TERRITORY']\n",
        "df = df.drop(to_drop, axis=1)"
      ],
      "metadata": {
        "id": "1YOw0A8eBtrJ"
      },
      "execution_count": null,
      "outputs": []
    },
    {
      "cell_type": "markdown",
      "source": [
        "Checking for inconsistent data types"
      ],
      "metadata": {
        "id": "6pnR3grHB0bA"
      }
    },
    {
      "cell_type": "code",
      "source": [
        "df.dtypes"
      ],
      "metadata": {
        "id": "kzRJ2XoBBUt5"
      },
      "execution_count": null,
      "outputs": []
    },
    {
      "cell_type": "code",
      "source": [
        "df['ORDERDATE'] = pd.to_datetime(df['ORDERDATE'])"
      ],
      "metadata": {
        "id": "VT9nogQ7B2co"
      },
      "execution_count": null,
      "outputs": []
    },
    {
      "cell_type": "markdown",
      "source": [
        "Summary stats of Quantitative variables"
      ],
      "metadata": {
        "id": "GDdI-D00B5X4"
      }
    },
    {
      "cell_type": "code",
      "source": [
        "quant_vars = ['QUANTITYORDERED','PRICEEACH','SALES','MSRP']\n",
        "df[quant_vars].describe()"
      ],
      "metadata": {
        "id": "uXemH6fFB4RI"
      },
      "execution_count": null,
      "outputs": []
    },
    {
      "cell_type": "code",
      "source": [
        "df.sort_values(by = ['ORDERDATE'], inplace = True)\n",
        "df.set_index('ORDERDATE', inplace = True)"
      ],
      "metadata": {
        "id": "pthVirDyEr1Y"
      },
      "execution_count": null,
      "outputs": []
    },
    {
      "cell_type": "code",
      "source": [
        "df.head()"
      ],
      "metadata": {
        "id": "6qfe4Z-TDldI"
      },
      "execution_count": null,
      "outputs": []
    },
    {
      "cell_type": "markdown",
      "source": [
        "Exploratory Data Analysis and Visualization"
      ],
      "metadata": {
        "id": "3FRVdl12E7Qw"
      }
    },
    {
      "cell_type": "code",
      "source": [
        "top_customer = df.groupby(['CUSTOMERNAME']).sum().sort_values('SALES', ascending = False).head(20)\n",
        "top_customer = top_customer[['SALES']].round(3)\n",
        "top_customer.reset_index(inplace = True)"
      ],
      "metadata": {
        "id": "eDrEB7goE6V5"
      },
      "execution_count": null,
      "outputs": []
    },
    {
      "cell_type": "code",
      "source": [
        "plt.figure(figsize = (15,5))\n",
        "plt.title('20 Most Valueable Customer (2003 - 2005)', fontsize = 18)\n",
        "plt.bar(top_customer['CUSTOMERNAME'], top_customer['SALES'], color = '#37C6AB', edgecolor = 'black', linewidth = 1)\n",
        "plt.xlabel('Customer Name', fontsize = 15)\n",
        "plt.ylabel('Revenue', fontsize = 15)\n",
        "plt.xticks(fontsize = 12, rotation = 90)\n",
        "plt.yticks(fontsize = 12)\n",
        "for k, v in top_customer['SALES'].items():\n",
        "    if v > 600000:\n",
        "        plt.text(k, v-270000, '$' + str(v), fontsize = 12, rotation = 90, color = 'black', ha = 'center')\n",
        "    else:\n",
        "        plt.text(k, v+ 50000, '$' + str(v), fontsize = 12, rotation = 90, color = 'black', ha = 'center')"
      ],
      "metadata": {
        "id": "15lVX_JXE9z3"
      },
      "execution_count": null,
      "outputs": []
    },
    {
      "cell_type": "code",
      "source": [
        "top_country = df.groupby(['COUNTRY']).sum().sort_values('SALES', ascending = False).head(20)\n",
        "top_country = top_country[['SALES']].round(3)\n",
        "top_country.reset_index(inplace = True)"
      ],
      "metadata": {
        "id": "uMbMfGxoE_BP"
      },
      "execution_count": null,
      "outputs": []
    },
    {
      "cell_type": "code",
      "source": [
        "plt.figure(figsize = (15,5))\n",
        "plt.title('20 Highest Revenue by Country (2003 - 2005)', fontsize = 18)\n",
        "plt.bar(top_country['COUNTRY'], top_country['SALES'], color = '#37C6AB', edgecolor = 'black', linewidth = 1)\n",
        "plt.xlabel('Country', fontsize = 15)\n",
        "plt.ylabel('Revenue', fontsize = 15)\n",
        "plt.xticks(fontsize = 12, rotation = 90)\n",
        "plt.yticks(fontsize = 12)\n",
        "for k, v in top_country['SALES'].items():\n",
        "    if v > 3000000:\n",
        "        plt.text(k, v-1200000, '$' + str(v), fontsize = 12, rotation = 90, color = 'black', ha = 'center')\n",
        "    else:\n",
        "        plt.text(k, v+100000, '$' + str(v), fontsize = 12, rotation = 90, color = 'black', ha = 'center')"
      ],
      "metadata": {
        "id": "jTBK8A28FDUH"
      },
      "execution_count": null,
      "outputs": []
    },
    {
      "cell_type": "code",
      "source": [],
      "metadata": {
        "id": "5RWce30eFEhn"
      },
      "execution_count": null,
      "outputs": []
    },
    {
      "cell_type": "markdown",
      "source": [
        "Find out 20 Highest Revenue by City\n",
        "\n",
        "Then visualized revenue by city. Here are th Top 20 City which generated the highest revenue"
      ],
      "metadata": {
        "id": "EQe6ewtaFGhf"
      }
    },
    {
      "cell_type": "code",
      "source": [
        "top_city = df.groupby(['CITY']).sum().sort_values('SALES', ascending = False).head(20)\n",
        "top_city = top_city[['SALES']].round(3)\n",
        "top_city.reset_index(inplace = True)\n",
        "plt.figure(figsize = (15,5))\n",
        "plt.title('20 Highest Revenue by City (2003 - 2005)', fontsize = 18)\n",
        "plt.bar(top_city['CITY'], top_city['SALES'], color = '#37C6AB', edgecolor = 'black', linewidth = 1 )\n",
        "plt.xlabel('City', fontsize = 15)\n",
        "plt.ylabel('Revenue', fontsize = 15)\n",
        "plt.xticks(fontsize = 12, rotation = 90)\n",
        "plt.yticks(fontsize = 12)\n",
        "for k, v, in top_city['SALES'].items():\n",
        "    if v > 800000:\n",
        "        plt.text(k, v-350000, '$' + str(v), fontsize = 12, rotation = 90, color = 'black', ha = 'center')\n",
        "    else:\n",
        "        plt.text(k, v+35000, '$' + str(v), fontsize = 12, rotation = 90, color = 'black', ha = 'center')"
      ],
      "metadata": {
        "id": "BwHnzpVUFHUf"
      },
      "execution_count": null,
      "outputs": []
    },
    {
      "cell_type": "code",
      "source": [
        "top_product = df.groupby(['PRODUCTLINE']).sum().sort_values('SALES', ascending = False)\n",
        "top_product = top_product[['SALES']]\n",
        "top_product.reset_index(inplace = True)\n",
        "total_revenue_product = top_product['SALES'].sum()\n",
        "total_revenue_product = str(int(total_revenue_product))\n",
        "total_revenue_product = '$' + total_revenue_product"
      ],
      "metadata": {
        "id": "5cN6slY8FIdB"
      },
      "execution_count": null,
      "outputs": []
    },
    {
      "cell_type": "code",
      "source": [
        "plt.rcParams['figure.figsize'] = (13,7)\n",
        "plt.rcParams['font.size'] = 12.0\n",
        "plt.rcParams['font.weight'] = 6\n",
        "def autopct_format(values):\n",
        "    def my_format(pct):\n",
        "        total = sum(values)\n",
        "        val = int(round(pct*total/100.0))\n",
        "        return ' ${v:d}'.format(v = val)\n",
        "    return my_format\n",
        "colors = ['#ff9999','#66b3ff','#99ff99','#ffcc99','#55B4B0','#E15D44','#009B77']\n",
        "explode = (0.05,0.05,0.05,0.05,0.05,0.05,0.05)\n",
        "fig1, ax1 = plt.subplots()\n",
        "pie1 = ax1.pie(top_product['SALES'], colors = colors, labels = top_product['PRODUCTLINE'], autopct = autopct_format(top_product['SALES']), startangle = 90, explode = explode)\n",
        "fraction_text_list = pie1[2]\n",
        "for text in fraction_text_list:\n",
        "    text.set_rotation(315)\n",
        "center_circle = plt.Circle((0,0), 0.80, fc = 'white')\n",
        "fig = plt.gcf()\n",
        "fig.gca().add_artist(center_circle)\n",
        "ax1.axis('equal')\n",
        "label = ax1.annotate('Total Revenue \\n' + str(total_revenue_product), color = 'red', xy = (0,0), fontsize = 12, ha  ='center')\n",
        "plt.tight_layout()\n",
        "plt.show()\n"
      ],
      "metadata": {
        "id": "FXqIwbNOFNho"
      },
      "execution_count": null,
      "outputs": []
    },
    {
      "cell_type": "code",
      "source": [
        "plt.figure(figsize = (10,10))\n",
        "corr_matrix = df.corr()\n",
        "sns.heatmap(corr_matrix, annot = True)"
      ],
      "metadata": {
        "id": "aT0ZG2MrFR5p"
      },
      "execution_count": null,
      "outputs": []
    }
  ]
}